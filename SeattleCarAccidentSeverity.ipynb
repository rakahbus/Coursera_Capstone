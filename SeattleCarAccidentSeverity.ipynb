{
 "cells": [
  {
   "cell_type": "code",
   "execution_count": 1,
   "metadata": {},
   "outputs": [],
   "source": [
    "#importing required libraries\n",
    "import pandas as pd\n",
    "import numpy as np\n",
    "import matplotlib.pyplot as plt\n",
    "import warnings\n",
    "import seaborn as sns\n",
    "import sklearn.model_selection as model_selection\n",
    "from sklearn.feature_selection import RFE\n",
    "from sklearn.feature_selection import RFECV\n",
    "from sklearn.feature_selection import SelectKBest, chi2\n",
    "from sklearn.metrics import accuracy_score, f1_score\n",
    "from sklearn.metrics import f1_score,confusion_matrix\n",
    "from sklearn.utils import resample\n",
    "from sklearn.linear_model import LogisticRegression\n",
    "from sklearn.model_selection import train_test_split"
   ]
  },
  {
   "cell_type": "code",
   "execution_count": 2,
   "metadata": {},
   "outputs": [],
   "source": [
    "np.set_printoptions(precision=3)\n",
    "pd.set_option('display.float_format', lambda x: '%.3f' % x)\n",
    "warnings.filterwarnings('ignore')\n",
    "np.random.seed(8)\n",
    "%matplotlib inline"
   ]
  },
  {
   "cell_type": "code",
   "execution_count": 3,
   "metadata": {},
   "outputs": [],
   "source": [
    "# create a method to measure the accuracy of each model\n",
    "def generate_accuracy(model, x, y):\n",
    "    ac = accuracy_score(y,model.predict(x))\n",
    "    f_score = f1_score(y,model.predict(x))\n",
    "    print('Accuracy is: ', ac)\n",
    "    print('F1 score is: ', f_score)\n",
    "    print (\"\\n\")\n",
    "    from sklearn.metrics import confusion_matrix\n",
    "    y_pred = model.predict(x)\n",
    "    confusion_matrix = confusion_matrix(y, y_pred)\n",
    "    print (\"The confusion matrix is:\")\n",
    "    print(confusion_matrix)\n",
    "    print (\"\\n\")\n",
    "    from sklearn.metrics import classification_report\n",
    "    print (\"The classification report is as follows:\")\n",
    "    print(classification_report(y, y_pred))\n",
    "    return 1"
   ]
  },
  {
   "cell_type": "code",
   "execution_count": 4,
   "metadata": {},
   "outputs": [
    {
     "data": {
      "text/html": [
       "<div>\n",
       "<style scoped>\n",
       "    .dataframe tbody tr th:only-of-type {\n",
       "        vertical-align: middle;\n",
       "    }\n",
       "\n",
       "    .dataframe tbody tr th {\n",
       "        vertical-align: top;\n",
       "    }\n",
       "\n",
       "    .dataframe thead th {\n",
       "        text-align: right;\n",
       "    }\n",
       "</style>\n",
       "<table border=\"1\" class=\"dataframe\">\n",
       "  <thead>\n",
       "    <tr style=\"text-align: right;\">\n",
       "      <th></th>\n",
       "      <th>SEVERITYCODE</th>\n",
       "      <th>WEEKEND</th>\n",
       "      <th>WEATHER</th>\n",
       "      <th>ROADCOND</th>\n",
       "      <th>LIGHTCOND</th>\n",
       "      <th>HOD</th>\n",
       "    </tr>\n",
       "  </thead>\n",
       "  <tbody>\n",
       "    <tr>\n",
       "      <th>0</th>\n",
       "      <td>1</td>\n",
       "      <td>0</td>\n",
       "      <td>Overcast</td>\n",
       "      <td>Wet</td>\n",
       "      <td>Daylight</td>\n",
       "      <td>13:00</td>\n",
       "    </tr>\n",
       "    <tr>\n",
       "      <th>1</th>\n",
       "      <td>0</td>\n",
       "      <td>0</td>\n",
       "      <td>Raining</td>\n",
       "      <td>Wet</td>\n",
       "      <td>Dark - Street Lights On</td>\n",
       "      <td>18:00</td>\n",
       "    </tr>\n",
       "    <tr>\n",
       "      <th>2</th>\n",
       "      <td>0</td>\n",
       "      <td>0</td>\n",
       "      <td>Overcast</td>\n",
       "      <td>Dry</td>\n",
       "      <td>Daylight</td>\n",
       "      <td>11:00</td>\n",
       "    </tr>\n",
       "    <tr>\n",
       "      <th>3</th>\n",
       "      <td>0</td>\n",
       "      <td>0</td>\n",
       "      <td>Clear</td>\n",
       "      <td>Dry</td>\n",
       "      <td>Daylight</td>\n",
       "      <td>9:00</td>\n",
       "    </tr>\n",
       "    <tr>\n",
       "      <th>4</th>\n",
       "      <td>1</td>\n",
       "      <td>0</td>\n",
       "      <td>Raining</td>\n",
       "      <td>Wet</td>\n",
       "      <td>Daylight</td>\n",
       "      <td>8:00</td>\n",
       "    </tr>\n",
       "  </tbody>\n",
       "</table>\n",
       "</div>"
      ],
      "text/plain": [
       "   SEVERITYCODE  WEEKEND   WEATHER ROADCOND                LIGHTCOND    HOD\n",
       "0             1        0  Overcast      Wet                 Daylight  13:00\n",
       "1             0        0   Raining      Wet  Dark - Street Lights On  18:00\n",
       "2             0        0  Overcast      Dry                 Daylight  11:00\n",
       "3             0        0     Clear      Dry                 Daylight   9:00\n",
       "4             1        0   Raining      Wet                 Daylight   8:00"
      ]
     },
     "execution_count": 4,
     "metadata": {},
     "output_type": "execute_result"
    }
   ],
   "source": [
    "# loading the collected file data\n",
    "data = pd.read_csv(\"Data-Collisions.csv\")\n",
    "data = data.drop([\"LONGITUDE\",\"LATITUDE\"],axis=1) \n",
    "data.head()"
   ]
  },
  {
   "cell_type": "markdown",
   "metadata": {},
   "source": [
    "# Exploratory Data Analysis"
   ]
  },
  {
   "cell_type": "code",
   "execution_count": 5,
   "metadata": {},
   "outputs": [
    {
     "data": {
      "image/png": "[encoded data removed]",
      "text/plain": [
       "<Figure size 432x288 with 1 Axes>"
      ]
     },
     "metadata": {
      "needs_background": "light"
     },
     "output_type": "display_data"
    }
   ],
   "source": [
    "# Plotting the effect of weather on the accident severity codes\n",
    "sns.countplot(y=\"WEATHER\", hue=\"SEVERITYCODE\", data=data)\n",
    "plt.show()"
   ]
  },
  {
   "cell_type": "code",
   "execution_count": 6,
   "metadata": {},
   "outputs": [
    {
     "data": {
      "image/png": "[encoded data removed]",
      "text/plain": [
       "<Figure size 432x288 with 1 Axes>"
      ]
     },
     "metadata": {
      "needs_background": "light"
     },
     "output_type": "display_data"
    }
   ],
   "source": [
    "# Plotting the effect of road condition on the accident severity codes\n",
    "sns.countplot(y=\"ROADCOND\", hue=\"SEVERITYCODE\", data=data)\n",
    "plt.show()"
   ]
  },
  {
   "cell_type": "code",
   "execution_count": 7,
   "metadata": {},
   "outputs": [
    {
     "data": {
      "image/png": "[encoded data removed]",
      "text/plain": [
       "<Figure size 432x288 with 1 Axes>"
      ]
     },
     "metadata": {
      "needs_background": "light"
     },
     "output_type": "display_data"
    }
   ],
   "source": [
    "# Plotting the effect of light condition of the road on the accident severity codes\n",
    "sns.countplot(y=\"LIGHTCOND\", hue=\"SEVERITYCODE\", data=data)\n",
    "plt.show()"
   ]
  },
  {
   "cell_type": "code",
   "execution_count": 8,
   "metadata": {},
   "outputs": [
    {
     "data": {
      "image/png": "[encoded data removed]",
      "text/plain": [
       "<Figure size 432x288 with 1 Axes>"
      ]
     },
     "metadata": {
      "needs_background": "light"
     },
     "output_type": "display_data"
    }
   ],
   "source": [
    "# Plotting the effect of hour of the day on the accident severity codes\n",
    "sns.countplot(y=\"HOD\", hue=\"SEVERITYCODE\", order=['1:00','2:00','3:00','4:00','5:00','6:00','7:00','8:00', '9:00','10:00','11:00','12:00','13:00','14:00','15:00','16:00', '17:00','18:00','19:00','20:00','21:00','22:00','23:00','0:00'], data=data)\n",
    "plt.show()"
   ]
  },
  {
   "cell_type": "code",
   "execution_count": 9,
   "metadata": {},
   "outputs": [
    {
     "data": {
      "image/png": "[encoded data removed]",
      "text/plain": [
       "<Figure size 432x288 with 1 Axes>"
      ]
     },
     "metadata": {
      "needs_background": "light"
     },
     "output_type": "display_data"
    }
   ],
   "source": [
    "# Plotting the effect of weekend on the accident severity codes\n",
    "sns.countplot(y=\"WEEKEND\", hue=\"SEVERITYCODE\", data=data)\n",
    "plt.show()"
   ]
  },
  {
   "cell_type": "markdown",
   "metadata": {},
   "source": [
    "# Data Preparation"
   ]
  },
  {
   "cell_type": "code",
   "execution_count": 10,
   "metadata": {},
   "outputs": [
    {
     "data": {
      "text/plain": [
       "0    96589\n",
       "1    47891\n",
       "Name: SEVERITYCODE, dtype: int64"
      ]
     },
     "execution_count": 10,
     "metadata": {},
     "output_type": "execute_result"
    }
   ],
   "source": [
    "# Observing the distribution of the data for both severity codes\n",
    "data['SEVERITYCODE'].value_counts()"
   ]
  },
  {
   "cell_type": "code",
   "execution_count": 11,
   "metadata": {},
   "outputs": [],
   "source": [
    "# Seperating the data based on the severity codes\n",
    "data_severity_1 = data[data.SEVERITYCODE==0] # SEVERITYCODE 0 = ORIGINAL SEVERITYCODE 1 = Property collisions\n",
    "data_severity_2 = data[data.SEVERITYCODE==1] # SEVERITYCODE 1 = ORIGINAL SEVERITYCODE 2 = Injury collisions"
   ]
  },
  {
   "cell_type": "code",
   "execution_count": 12,
   "metadata": {},
   "outputs": [
    {
     "data": {
      "text/plain": [
       "1    96589\n",
       "0    96589\n",
       "Name: SEVERITYCODE, dtype: int64"
      ]
     },
     "execution_count": 12,
     "metadata": {},
     "output_type": "execute_result"
    }
   ],
   "source": [
    "# Upsampling the severity code 1 to match with the severity code 0\n",
    "data_severity_2_upsampled = resample(data_severity_2, \n",
    "                                 replace=True,     # sample with replacement\n",
    "                                 n_samples=96589,    # to match majority class\n",
    "                                 random_state=123) # reproducible results\n",
    " \n",
    "# Combine majority class with upsampled severitycode 2 minority class\n",
    "data_upsampled = pd.concat([data_severity_1, data_severity_2_upsampled])\n",
    " \n",
    "# Display new class counts\n",
    "data_upsampled.SEVERITYCODE.value_counts()"
   ]
  },
  {
   "cell_type": "code",
   "execution_count": 13,
   "metadata": {},
   "outputs": [
    {
     "data": {
      "text/html": [
       "<div>\n",
       "<style scoped>\n",
       "    .dataframe tbody tr th:only-of-type {\n",
       "        vertical-align: middle;\n",
       "    }\n",
       "\n",
       "    .dataframe tbody tr th {\n",
       "        vertical-align: top;\n",
       "    }\n",
       "\n",
       "    .dataframe thead th {\n",
       "        text-align: right;\n",
       "    }\n",
       "</style>\n",
       "<table border=\"1\" class=\"dataframe\">\n",
       "  <thead>\n",
       "    <tr style=\"text-align: right;\">\n",
       "      <th></th>\n",
       "      <th>SEVERITYCODE</th>\n",
       "      <th>WEEKEND</th>\n",
       "      <th>WEATHER</th>\n",
       "      <th>ROADCOND</th>\n",
       "      <th>LIGHTCOND</th>\n",
       "      <th>HOD</th>\n",
       "    </tr>\n",
       "  </thead>\n",
       "  <tbody>\n",
       "    <tr>\n",
       "      <th>1</th>\n",
       "      <td>0</td>\n",
       "      <td>0</td>\n",
       "      <td>Raining</td>\n",
       "      <td>Wet</td>\n",
       "      <td>Dark - Street Lights On</td>\n",
       "      <td>18:00</td>\n",
       "    </tr>\n",
       "    <tr>\n",
       "      <th>2</th>\n",
       "      <td>0</td>\n",
       "      <td>0</td>\n",
       "      <td>Overcast</td>\n",
       "      <td>Dry</td>\n",
       "      <td>Daylight</td>\n",
       "      <td>11:00</td>\n",
       "    </tr>\n",
       "    <tr>\n",
       "      <th>3</th>\n",
       "      <td>0</td>\n",
       "      <td>0</td>\n",
       "      <td>Clear</td>\n",
       "      <td>Dry</td>\n",
       "      <td>Daylight</td>\n",
       "      <td>9:00</td>\n",
       "    </tr>\n",
       "    <tr>\n",
       "      <th>5</th>\n",
       "      <td>0</td>\n",
       "      <td>1</td>\n",
       "      <td>Clear</td>\n",
       "      <td>Dry</td>\n",
       "      <td>Daylight</td>\n",
       "      <td>17:00</td>\n",
       "    </tr>\n",
       "    <tr>\n",
       "      <th>7</th>\n",
       "      <td>0</td>\n",
       "      <td>0</td>\n",
       "      <td>Clear</td>\n",
       "      <td>Dry</td>\n",
       "      <td>Daylight</td>\n",
       "      <td>23:00</td>\n",
       "    </tr>\n",
       "  </tbody>\n",
       "</table>\n",
       "</div>"
      ],
      "text/plain": [
       "   SEVERITYCODE  WEEKEND   WEATHER ROADCOND                LIGHTCOND    HOD\n",
       "1             0        0   Raining      Wet  Dark - Street Lights On  18:00\n",
       "2             0        0  Overcast      Dry                 Daylight  11:00\n",
       "3             0        0     Clear      Dry                 Daylight   9:00\n",
       "5             0        1     Clear      Dry                 Daylight  17:00\n",
       "7             0        0     Clear      Dry                 Daylight  23:00"
      ]
     },
     "execution_count": 13,
     "metadata": {},
     "output_type": "execute_result"
    }
   ],
   "source": [
    "# Checking the first values of our data frame\n",
    "data_upsampled.head()"
   ]
  },
  {
   "cell_type": "code",
   "execution_count": 14,
   "metadata": {},
   "outputs": [
    {
     "data": {
      "text/plain": [
       "SEVERITYCODE     int64\n",
       "WEEKEND          int64\n",
       "WEATHER         object\n",
       "ROADCOND        object\n",
       "LIGHTCOND       object\n",
       "HOD             object\n",
       "dtype: object"
      ]
     },
     "execution_count": 14,
     "metadata": {},
     "output_type": "execute_result"
    }
   ],
   "source": [
    "# Checking the data types\n",
    "data_upsampled.dtypes"
   ]
  },
  {
   "cell_type": "code",
   "execution_count": 15,
   "metadata": {},
   "outputs": [],
   "source": [
    "# Creating the list of dummy variables for the categorical data\n",
    "data_final = pd.get_dummies(data_upsampled, columns=['WEATHER','ROADCOND','LIGHTCOND','HOD'])"
   ]
  },
  {
   "cell_type": "code",
   "execution_count": 16,
   "metadata": {},
   "outputs": [],
   "source": [
    "# Splitting the data into training and test dataset\n",
    "training_dataset, test_dataset = train_test_split(data_final, train_size=0.7, test_size=0.3)"
   ]
  },
  {
   "cell_type": "code",
   "execution_count": 17,
   "metadata": {},
   "outputs": [
    {
     "data": {
      "text/plain": [
       "1    67640\n",
       "0    67584\n",
       "Name: SEVERITYCODE, dtype: int64"
      ]
     },
     "execution_count": 17,
     "metadata": {},
     "output_type": "execute_result"
    }
   ],
   "source": [
    "# Checking the values of the training dataset severity codes \n",
    "training_dataset.SEVERITYCODE.value_counts()"
   ]
  },
  {
   "cell_type": "code",
   "execution_count": 18,
   "metadata": {},
   "outputs": [
    {
     "data": {
      "text/plain": [
       "0    29005\n",
       "1    28949\n",
       "Name: SEVERITYCODE, dtype: int64"
      ]
     },
     "execution_count": 18,
     "metadata": {},
     "output_type": "execute_result"
    }
   ],
   "source": [
    "# Checking the values of the test dataset severity codes\n",
    "test_dataset.SEVERITYCODE.value_counts()"
   ]
  },
  {
   "cell_type": "code",
   "execution_count": 19,
   "metadata": {},
   "outputs": [
    {
     "data": {
      "text/plain": [
       "(135224, 46)"
      ]
     },
     "execution_count": 19,
     "metadata": {},
     "output_type": "execute_result"
    }
   ],
   "source": [
    "# Checking the shape of the training dataset\n",
    "training_dataset.shape"
   ]
  },
  {
   "cell_type": "code",
   "execution_count": 20,
   "metadata": {},
   "outputs": [
    {
     "data": {
      "text/plain": [
       "SEVERITYCODE                          int64\n",
       "WEEKEND                               int64\n",
       "WEATHER_Blowing Sand/Dirt             uint8\n",
       "WEATHER_Clear                         uint8\n",
       "WEATHER_Fog/Smog/Smoke                uint8\n",
       "WEATHER_Other                         uint8\n",
       "WEATHER_Overcast                      uint8\n",
       "WEATHER_Partly Cloudy                 uint8\n",
       "WEATHER_Raining                       uint8\n",
       "WEATHER_Severe Crosswind              uint8\n",
       "WEATHER_Sleet/Hail/Freezing Rain      uint8\n",
       "WEATHER_Snowing                       uint8\n",
       "ROADCOND_Dry                          uint8\n",
       "ROADCOND_Ice                          uint8\n",
       "ROADCOND_Oil                          uint8\n",
       "ROADCOND_Other                        uint8\n",
       "ROADCOND_Sand/Mud/Dirt                uint8\n",
       "ROADCOND_Snow/Slush                   uint8\n",
       "ROADCOND_Standing Water               uint8\n",
       "ROADCOND_Wet                          uint8\n",
       "LIGHTCOND_Dark - No Street Lights     uint8\n",
       "LIGHTCOND_Dark - Street Lights Off    uint8\n",
       "LIGHTCOND_Dark - Street Lights On     uint8\n",
       "LIGHTCOND_Dark - Unknown Lighting     uint8\n",
       "LIGHTCOND_Dawn                        uint8\n",
       "LIGHTCOND_Daylight                    uint8\n",
       "LIGHTCOND_Dusk                        uint8\n",
       "LIGHTCOND_Other                       uint8\n",
       "HOD_11:00                             uint8\n",
       "HOD_13:00                             uint8\n",
       "HOD_15:00                             uint8\n",
       "HOD_16:00                             uint8\n",
       "HOD_17:00                             uint8\n",
       "HOD_18:00                             uint8\n",
       "HOD_19:00                             uint8\n",
       "HOD_1:00                              uint8\n",
       "HOD_20:00                             uint8\n",
       "HOD_21:00                             uint8\n",
       "HOD_23:00                             uint8\n",
       "HOD_3:00                              uint8\n",
       "HOD_4:00                              uint8\n",
       "HOD_5:00                              uint8\n",
       "HOD_6:00                              uint8\n",
       "HOD_7:00                              uint8\n",
       "HOD_8:00                              uint8\n",
       "HOD_9:00                              uint8\n",
       "dtype: object"
      ]
     },
     "execution_count": 20,
     "metadata": {},
     "output_type": "execute_result"
    }
   ],
   "source": [
    "# Checking the created dummy columns of the categorical variables\n",
    "training_dataset.dtypes"
   ]
  },
  {
   "cell_type": "markdown",
   "metadata": {},
   "source": [
    "# Data Modelling"
   ]
  },
  {
   "cell_type": "code",
   "execution_count": 21,
   "metadata": {},
   "outputs": [],
   "source": [
    "# Splitting the dependent and independent variables of the training and test dataset\n",
    "X_train =training_dataset.loc[:, training_dataset.columns != 'SEVERITYCODE']\n",
    "y_train =training_dataset.loc[:, training_dataset.columns == 'SEVERITYCODE']\n",
    "X_test =test_dataset.loc[:, test_dataset.columns != 'SEVERITYCODE']\n",
    "y_test =test_dataset.loc[:, test_dataset.columns == 'SEVERITYCODE']"
   ]
  },
  {
   "cell_type": "code",
   "execution_count": 22,
   "metadata": {},
   "outputs": [],
   "source": [
    "#  Building a logistic regression model before the feature selection process\n",
    "clf_lr = LogisticRegression()      \n",
    "lr_baseline_model = clf_lr.fit(X_train,y_train)"
   ]
  },
  {
   "cell_type": "code",
   "execution_count": 23,
   "metadata": {},
   "outputs": [
    {
     "name": "stdout",
     "output_type": "stream",
     "text": [
      "Accuracy is:  0.5262449528936743\n",
      "F1 score is:  0.5147573433247322\n",
      "\n",
      "\n",
      "The confusion matrix is:\n",
      "[[15935 13070]\n",
      " [14386 14563]]\n",
      "\n",
      "\n",
      "The classification report is as follows:\n",
      "              precision    recall  f1-score   support\n",
      "\n",
      "           0       0.53      0.55      0.54     29005\n",
      "           1       0.53      0.50      0.51     28949\n",
      "\n",
      "    accuracy                           0.53     57954\n",
      "   macro avg       0.53      0.53      0.53     57954\n",
      "weighted avg       0.53      0.53      0.53     57954\n",
      "\n"
     ]
    },
    {
     "data": {
      "text/plain": [
       "1"
      ]
     },
     "execution_count": 23,
     "metadata": {},
     "output_type": "execute_result"
    }
   ],
   "source": [
    "# Get the model accuracy score for the baseline model\n",
    "generate_accuracy(lr_baseline_model, X_test, y_test)"
   ]
  },
  {
   "cell_type": "markdown",
   "metadata": {},
   "source": [
    "# Recursive feature elimination with cross validation"
   ]
  },
  {
   "cell_type": "code",
   "execution_count": 24,
   "metadata": {},
   "outputs": [
    {
     "name": "stdout",
     "output_type": "stream",
     "text": [
      "Optimal number of features : 31\n",
      "Best features : Index(['WEATHER_Clear', 'WEATHER_Fog/Smog/Smoke', 'WEATHER_Other',\n",
      "       'WEATHER_Overcast', 'WEATHER_Partly Cloudy', 'WEATHER_Raining',\n",
      "       'WEATHER_Severe Crosswind', 'WEATHER_Sleet/Hail/Freezing Rain',\n",
      "       'WEATHER_Snowing', 'ROADCOND_Ice', 'ROADCOND_Oil', 'ROADCOND_Other',\n",
      "       'ROADCOND_Sand/Mud/Dirt', 'ROADCOND_Snow/Slush',\n",
      "       'LIGHTCOND_Dark - No Street Lights',\n",
      "       'LIGHTCOND_Dark - Unknown Lighting', 'LIGHTCOND_Dawn',\n",
      "       'LIGHTCOND_Daylight', 'LIGHTCOND_Other', 'HOD_15:00', 'HOD_16:00',\n",
      "       'HOD_17:00', 'HOD_18:00', 'HOD_19:00', 'HOD_1:00', 'HOD_21:00',\n",
      "       'HOD_3:00', 'HOD_4:00', 'HOD_6:00', 'HOD_7:00', 'HOD_8:00'],\n",
      "      dtype='object')\n"
     ]
    }
   ],
   "source": [
    "# Using recursive feature elimination process with cross validate to perform feature selection\n",
    "rfecv = RFECV(estimator=clf_lr, step=1, cv=5, scoring='accuracy')\n",
    "rfecv = rfecv.fit(X_train, y_train)\n",
    "print('Optimal number of features :', rfecv.n_features_)\n",
    "print('Best features :', X_train.columns[rfecv.support_])"
   ]
  },
  {
   "cell_type": "code",
   "execution_count": 25,
   "metadata": {},
   "outputs": [
    {
     "data": {
      "text/plain": [
       "array([0.5  , 0.501, 0.502, 0.504, 0.506, 0.506, 0.507, 0.508, 0.51 ,\n",
       "       0.513, 0.514, 0.514, 0.514, 0.515, 0.515, 0.516, 0.519, 0.522,\n",
       "       0.524, 0.525, 0.526, 0.526, 0.526, 0.527, 0.528, 0.527, 0.528,\n",
       "       0.528, 0.528, 0.527, 0.528, 0.528, 0.528, 0.528, 0.528, 0.528,\n",
       "       0.528, 0.528, 0.528, 0.528, 0.527, 0.527, 0.528, 0.528, 0.527])"
      ]
     },
     "execution_count": 25,
     "metadata": {},
     "output_type": "execute_result"
    }
   ],
   "source": [
    "# Comparing the scores of each variable\n",
    "rfecv.grid_scores_"
   ]
  },
  {
   "cell_type": "code",
   "execution_count": 26,
   "metadata": {},
   "outputs": [
    {
     "data": {
      "image/png": "[encoded data removed]",
      "text/plain": [
       "<Figure size 432x288 with 1 Axes>"
      ]
     },
     "metadata": {
      "needs_background": "light"
     },
     "output_type": "display_data"
    }
   ],
   "source": [
    "# Plot the figure of selected features\n",
    "plt.figure()\n",
    "plt.xlabel(\"Number of features selected\")\n",
    "plt.ylabel(\"Cross validation score of number of selected features\")\n",
    "plt.plot(range(1, len(rfecv.grid_scores_) + 1), rfecv.grid_scores_)\n",
    "plt.show()"
   ]
  },
  {
   "cell_type": "code",
   "execution_count": 27,
   "metadata": {},
   "outputs": [],
   "source": [
    "# Splitting the test and train data based on the feature selection process\n",
    "X_train_rfecv = rfecv.transform(X_train)\n",
    "X_test_rfecv = rfecv.transform(X_test)"
   ]
  },
  {
   "cell_type": "code",
   "execution_count": 28,
   "metadata": {},
   "outputs": [],
   "source": [
    "# Fitting the logistic regression based on the selected features\n",
    "lr_rfecv_model = clf_lr.fit(X_train_rfecv, y_train)"
   ]
  },
  {
   "cell_type": "markdown",
   "metadata": {},
   "source": [
    "# Logistic Regression Model"
   ]
  },
  {
   "cell_type": "code",
   "execution_count": 29,
   "metadata": {},
   "outputs": [
    {
     "name": "stdout",
     "output_type": "stream",
     "text": [
      "Accuracy is:  0.5256755357697485\n",
      "F1 score is:  0.5184886755767311\n",
      "\n",
      "\n",
      "The confusion matrix is:\n",
      "[[15665 13340]\n",
      " [14149 14800]]\n",
      "\n",
      "\n",
      "The classification report is as follows:\n",
      "              precision    recall  f1-score   support\n",
      "\n",
      "           0       0.53      0.54      0.53     29005\n",
      "           1       0.53      0.51      0.52     28949\n",
      "\n",
      "    accuracy                           0.53     57954\n",
      "   macro avg       0.53      0.53      0.53     57954\n",
      "weighted avg       0.53      0.53      0.53     57954\n",
      "\n"
     ]
    },
    {
     "data": {
      "text/plain": [
       "1"
      ]
     },
     "execution_count": 29,
     "metadata": {},
     "output_type": "execute_result"
    }
   ],
   "source": [
    "# Generate accuracy for the logistic regression model with selected features\n",
    "generate_accuracy(lr_rfecv_model, X_test_rfecv, y_test)"
   ]
  },
  {
   "cell_type": "markdown",
   "metadata": {},
   "source": [
    "# KNN Classification Model"
   ]
  },
  {
   "cell_type": "code",
   "execution_count": 30,
   "metadata": {},
   "outputs": [
    {
     "data": {
      "text/plain": [
       "KNeighborsClassifier(metric='euclidean')"
      ]
     },
     "execution_count": 30,
     "metadata": {},
     "output_type": "execute_result"
    }
   ],
   "source": [
    "# Using KNN Classifier to build the model\n",
    "from sklearn.neighbors import KNeighborsClassifier\n",
    "knn = KNeighborsClassifier(n_neighbors=5, metric='euclidean')\n",
    "knn.fit(X_train_rfecv, y_train)"
   ]
  },
  {
   "cell_type": "code",
   "execution_count": 31,
   "metadata": {},
   "outputs": [],
   "source": [
    "# predicting the dependent variable using KNN Classifier\n",
    "y_pred = knn.predict(X_test_rfecv)"
   ]
  },
  {
   "cell_type": "code",
   "execution_count": 32,
   "metadata": {},
   "outputs": [
    {
     "name": "stdout",
     "output_type": "stream",
     "text": [
      "Accuracy is:  0.5147703350933499\n",
      "F1 score is:  0.4418996963502491\n",
      "\n",
      "\n",
      "The confusion matrix is:\n",
      "[[18700 10305]\n",
      " [17816 11133]]\n",
      "\n",
      "\n",
      "The classification report is as follows:\n",
      "              precision    recall  f1-score   support\n",
      "\n",
      "           0       0.51      0.64      0.57     29005\n",
      "           1       0.52      0.38      0.44     28949\n",
      "\n",
      "    accuracy                           0.51     57954\n",
      "   macro avg       0.52      0.51      0.51     57954\n",
      "weighted avg       0.52      0.51      0.51     57954\n",
      "\n"
     ]
    },
    {
     "data": {
      "text/plain": [
       "1"
      ]
     },
     "execution_count": 32,
     "metadata": {},
     "output_type": "execute_result"
    }
   ],
   "source": [
    "# Accuracy generation for the KNN Classifier\n",
    "generate_accuracy(knn, X_test_rfecv, y_test)"
   ]
  },
  {
   "cell_type": "markdown",
   "metadata": {},
   "source": [
    "# SVM Classification Model"
   ]
  },
  {
   "cell_type": "code",
   "execution_count": 33,
   "metadata": {},
   "outputs": [
    {
     "data": {
      "text/plain": [
       "SVC(kernel='linear')"
      ]
     },
     "execution_count": 33,
     "metadata": {},
     "output_type": "execute_result"
    }
   ],
   "source": [
    "# Creating the SVM classifier model using linear kernel\n",
    "from sklearn.svm import SVC\n",
    "svclassifier = SVC(kernel='linear')\n",
    "svclassifier.fit(X_train_rfecv, y_train)"
   ]
  },
  {
   "cell_type": "code",
   "execution_count": 34,
   "metadata": {},
   "outputs": [],
   "source": [
    "# Predicting the dependent variable using the SVM classifier\n",
    "y_pred = svclassifier.predict(X_test_rfecv)"
   ]
  },
  {
   "cell_type": "code",
   "execution_count": 35,
   "metadata": {},
   "outputs": [
    {
     "name": "stdout",
     "output_type": "stream",
     "text": [
      "Accuracy is:  0.5243986610070056\n",
      "F1 score is:  0.4981702321347292\n",
      "\n",
      "\n",
      "The confusion matrix is:\n",
      "[[16710 12295]\n",
      " [15268 13681]]\n",
      "\n",
      "\n",
      "The classification report is as follows:\n",
      "              precision    recall  f1-score   support\n",
      "\n",
      "           0       0.52      0.58      0.55     29005\n",
      "           1       0.53      0.47      0.50     28949\n",
      "\n",
      "    accuracy                           0.52     57954\n",
      "   macro avg       0.52      0.52      0.52     57954\n",
      "weighted avg       0.52      0.52      0.52     57954\n",
      "\n"
     ]
    },
    {
     "data": {
      "text/plain": [
       "1"
      ]
     },
     "execution_count": 35,
     "metadata": {},
     "output_type": "execute_result"
    }
   ],
   "source": [
    "# Accuracy prediction using linear SVM classifier\n",
    "generate_accuracy(svclassifier, X_test_rfecv, y_test)"
   ]
  },
  {
   "cell_type": "code",
   "execution_count": 36,
   "metadata": {},
   "outputs": [
    {
     "data": {
      "text/plain": [
       "SVC()"
      ]
     },
     "execution_count": 36,
     "metadata": {},
     "output_type": "execute_result"
    }
   ],
   "source": [
    "# Creating SVM classifier using gaussian kernel\n",
    "from sklearn.svm import SVC\n",
    "svclassifier = SVC(kernel='rbf')\n",
    "svclassifier.fit(X_train_rfecv, y_train)"
   ]
  },
  {
   "cell_type": "code",
   "execution_count": 37,
   "metadata": {},
   "outputs": [],
   "source": [
    "# Predicting the dependent variable using SVM classifier\n",
    "y_pred = svclassifier.predict(X_test_rfecv)"
   ]
  },
  {
   "cell_type": "code",
   "execution_count": 38,
   "metadata": {},
   "outputs": [
    {
     "name": "stdout",
     "output_type": "stream",
     "text": [
      "Accuracy is:  0.5267280946957932\n",
      "F1 score is:  0.5147376242878879\n",
      "\n",
      "\n",
      "The confusion matrix is:\n",
      "[[15979 13026]\n",
      " [14402 14547]]\n",
      "\n",
      "\n",
      "The classification report is as follows:\n",
      "              precision    recall  f1-score   support\n",
      "\n",
      "           0       0.53      0.55      0.54     29005\n",
      "           1       0.53      0.50      0.51     28949\n",
      "\n",
      "    accuracy                           0.53     57954\n",
      "   macro avg       0.53      0.53      0.53     57954\n",
      "weighted avg       0.53      0.53      0.53     57954\n",
      "\n"
     ]
    },
    {
     "data": {
      "text/plain": [
       "1"
      ]
     },
     "execution_count": 38,
     "metadata": {},
     "output_type": "execute_result"
    }
   ],
   "source": [
    "# Generating an accuracy model for gaussian SVM Classifier\n",
    "generate_accuracy(svclassifier, X_test_rfecv, y_test)"
   ]
  }
 ],
 "metadata": {
  "kernelspec": {
   "display_name": "Python 3",
   "language": "python",
   "name": "python3"
  },
  "language_info": {
   "codemirror_mode": {
    "name": "ipython",
    "version": 3
   },
   "file_extension": ".py",
   "mimetype": "text/x-python",
   "name": "python",
   "nbconvert_exporter": "python",
   "pygments_lexer": "ipython3",
   "version": "3.7.6"
  }
 },
 "nbformat": 4,
 "nbformat_minor": 4
}
